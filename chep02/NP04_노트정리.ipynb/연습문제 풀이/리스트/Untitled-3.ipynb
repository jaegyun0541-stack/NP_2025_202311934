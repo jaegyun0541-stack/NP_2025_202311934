{
 "cells": [
  {
   "cell_type": "code",
   "execution_count": 7,
   "id": "5491730b",
   "metadata": {},
   "outputs": [
    {
     "name": "stdout",
     "output_type": "stream",
     "text": [
      "[3, 1, 4, 1, 5] 3 5\n",
      "[3, 9, 4, 1, 5]\n",
      "[3, 9, 7, 4, 1, 5, 2, 8, 9]\n",
      "popped: 9 -> [3, 9, 7, 4, 5, 2, 8]\n",
      "sorted: [2, 3, 4, 5, 7, 8, 9]\n",
      "reversed: [9, 8, 7, 5, 4, 3, 2]\n",
      "[9, 8, 7] [9, 7, 4, 2]\n",
      "len/sum/min/max = 7 38 2 9\n",
      "squares: [1, 4, 9, 16, 25] ... [64, 81, 100]\n"
     ]
    }
   ],
   "source": [
    "# 생성 / 조회 / 수정\n",
    "nums = [3, 1, 4, 1, 5]\n",
    "print(nums, nums[0], nums[-1])   # 전체, 첫/마지막\n",
    "\n",
    "nums[1] = 9                      # 수정\n",
    "print(nums)\n",
    "\n",
    "# 추가/삽입/확장\n",
    "nums.append(2)                   # 끝에 추가\n",
    "nums.insert(2, 7)                # 인덱스 2 위치에 삽입\n",
    "nums.extend([8, 9])              # 여러 개 한번에 추가\n",
    "print(nums)\n",
    "\n",
    "# 삭제\n",
    "nums.remove(1)                   # 값으로 삭제(첫 번째 1 제거)\n",
    "p = nums.pop()                   # 끝에서 꺼내기\n",
    "print(\"popped:\", p, \"->\", nums)\n",
    "\n",
    "# 정렬/역순\n",
    "nums.sort()                      # 오름차순\n",
    "print(\"sorted:\", nums)\n",
    "nums.reverse()                   # 역순(단순 뒤집기)\n",
    "print(\"reversed:\", nums)\n",
    "\n",
    "# 슬라이싱\n",
    "print(nums[:3], nums[::2])       # 앞 3개, 2칸씩 건너뛰기\n",
    "\n",
    "# 내장함수\n",
    "print(\"len/sum/min/max =\", len(nums), sum(nums), min(nums), max(nums))\n",
    "\n",
    "# 리스트 내포\n",
    "squares = [i*i for i in range(1, 11)]\n",
    "print(\"squares:\", squares[:5], \"...\", squares[-3:])\n",
    "\n"
   ]
  },
  {
   "cell_type": "code",
   "execution_count": 8,
   "id": "9ce569f9",
   "metadata": {},
   "outputs": [
    {
     "name": "stdout",
     "output_type": "stream",
     "text": [
      "['소라', '민수', '태훈', '지영', '현우', '라희']\n"
     ]
    }
   ],
   "source": [
    "friends = [\"민수\", \"지영\", \"현우\"]\n",
    "friends.insert(0, \"소라\")   # 맨 앞\n",
    "friends.insert(2, \"태훈\")   # 3번째 위치(인덱스 2)\n",
    "friends.append(\"라희\")      # 맨 끝\n",
    "print(friends)\n"
   ]
  },
  {
   "cell_type": "markdown",
   "id": "2e7e0cba",
   "metadata": {},
   "source": [
    "L0_49 = [i for i in range(50)]\n",
    "L1_50_sq = [i*i for i in range(1, 51)]\n",
    "print(L0_49[:10], \"...\", L0_49[-3:])\n",
    "print(L1_50_sq[:5], \"...\", L1_50_sq[-3:])\n"
   ]
  },
  {
   "cell_type": "markdown",
   "id": "90cda391",
   "metadata": {},
   "source": [
    "A = [1,2,3,4,5]\n",
    "B = [10,20,30,40,50]\n",
    "C = [a + b for a, b in zip(A, B)]\n",
    "print(C)   # [11, 22, 33, 44, 55]\n"
   ]
  },
  {
   "cell_type": "markdown",
   "id": "69a7f5d0",
   "metadata": {},
   "source": [
    "\n",
    "nums = []\n",
    "for _ in range(5):\n",
    "    nums.append(int(input(\"숫자: \")))\n",
    "expr = \"+\".join(str(n) for n in nums)\n",
    "print(expr)\n"
   ]
  },
  {
   "cell_type": "markdown",
   "id": "0774728a",
   "metadata": {},
   "source": [
    "\n",
    "nums = [2, 5, 11, 33, 55]\n",
    "expr = \"+\".join(map(str, nums))\n",
    "print(expr)   # 2+5+11+33+55\n"
   ]
  }
 ],
 "metadata": {
  "kernelspec": {
   "display_name": "Python 3",
   "language": "python",
   "name": "python3"
  },
  "language_info": {
   "codemirror_mode": {
    "name": "ipython",
    "version": 3
   },
   "file_extension": ".py",
   "mimetype": "text/x-python",
   "name": "python",
   "nbconvert_exporter": "python",
   "pygments_lexer": "ipython3",
   "version": "3.13.7"
  }
 },
 "nbformat": 4,
 "nbformat_minor": 5
}
