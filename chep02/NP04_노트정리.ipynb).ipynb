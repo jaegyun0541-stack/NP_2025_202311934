{
 "cells": [
  {
   "cell_type": "code",
   "execution_count": null,
   "id": "a7802a4c",
   "metadata": {},
   "outputs": [],
   "source": [
    "## 2장 노트정리\n",
    "\n",
    "- 수업 날짜: 2025-09-09\n",
    "- 학번: 202311934\n",
    "- 이름: 전재균"
   ]
  },
  {
   "cell_type": "code",
   "execution_count": 1,
   "id": "3a762d56",
   "metadata": {},
   "outputs": [
    {
     "name": "stdout",
     "output_type": "stream",
     "text": [
      "Hello, 여러분!!\n"
     ]
    }
   ],
   "source": [
    "print(\"Hello, 여러분!!\")"
   ]
  },
  {
   "cell_type": "code",
   "execution_count": null,
   "id": "00754fcb",
   "metadata": {},
   "outputs": [],
   "source": []
  }
 ],
 "metadata": {
  "kernelspec": {
   "display_name": "Python 3",
   "language": "python",
   "name": "python3"
  },
  "language_info": {
   "codemirror_mode": {
    "name": "ipython",
    "version": 3
   },
   "file_extension": ".py",
   "mimetype": "text/x-python",
   "name": "python",
   "nbconvert_exporter": "python",
   "pygments_lexer": "ipython3",
   "version": "3.13.7"
  }
 },
 "nbformat": 4,
 "nbformat_minor": 5
}
