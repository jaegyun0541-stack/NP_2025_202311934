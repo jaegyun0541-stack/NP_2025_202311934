{
 "cells": [
  {
   "cell_type": "markdown",
   "id": "a7802a4c",
   "metadata": {},
   "source": [
    "## 2장 노트정리\n",
    "\n",
    "- 수업 날짜: 2025-09-09\n",
    "- 학번: 202311934\n",
    "- 이름: 전재균"
   ]
  },
  {
   "cell_type": "markdown",
   "id": "3a762d56",
   "metadata": {},
   "source": [
    "print(\"Hello, 여러분!!\")"
   ]
  },
  {
   "cell_type": "markdown",
   "id": "00754fcb",
   "metadata": {},
   "source": [
    "## print() 함수\n",
    "- 화면에 출력할 때 사용\n",
    "- 문자열은 따옴표(\" \")로 감쌈\n",
    "- 여러 값을 출력할 때는 콤마(,)로 구분\n"
   ]
  },
  {
   "cell_type": "markdown",
   "id": "82be6ba9",
   "metadata": {},
   "source": [
    "## 자료형 (Data Types)\n",
    "- int: 정수\n",
    "- float: 실수\n",
    "- str: 문자열\n",
    "- bool: 참(True) / 거짓(False)\n"
   ]
  },
  {
   "cell_type": "markdown",
   "id": "ae9e4665",
   "metadata": {},
   "source": [
    "## 변수와 입력\n",
    "- 변수: 데이터를 담는 공간\n",
    "- input(): 사용자 입력을 문자열로 받음\n",
    "- 형 변환: int(), float(), str()\n"
   ]
  },
  {
   "cell_type": "markdown",
   "id": "12241db4",
   "metadata": {},
   "source": [
    "## 제어문\n",
    "### 조건문\n",
    "- if / elif / else\n",
    "\n",
    "### 반복문\n",
    "- for, while\n",
    "- break, continue, pass\n"
   ]
  }
 ],
 "metadata": {
  "kernelspec": {
   "display_name": "Python 3",
   "language": "python",
   "name": "python3"
  },
  "language_info": {
   "codemirror_mode": {
    "name": "ipython",
    "version": 3
   },
   "file_extension": ".py",
   "mimetype": "text/x-python",
   "name": "python",
   "nbconvert_exporter": "python",
   "pygments_lexer": "ipython3",
   "version": "3.13.7"
  }
 },
 "nbformat": 4,
 "nbformat_minor": 5
}
